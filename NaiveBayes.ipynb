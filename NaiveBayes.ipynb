{
 "cells": [
  {
   "cell_type": "markdown",
   "metadata": {},
   "source": [
    "## Naive bayes Experiments\n",
    "Given the performance we have been getting with Naive Bayes, I will focus on improving it. I will deal only with the top50 features and see if the following modifications improve our performance:\n",
    "* Create more features: quintiles, log, id, exp, interaction terms.\n",
    "* Try variations of Naive Bayes\n",
    "* Tune its hyper parameters"
   ]
  },
  {
   "cell_type": "markdown",
   "metadata": {},
   "source": [
    "## Results:\n",
    "* Adding quintiles, exponentials, and square terms do not improve the performance\n",
    "* Interaction terms (i.e) second order terms has not been tried yet\n",
    "* Tunning hyperparameters of Naive Bayes ... not tried yet\n",
    "* Try other versions of Naive Bayes ... not tried"
   ]
  },
  {
   "cell_type": "code",
   "execution_count": 24,
   "metadata": {},
   "outputs": [],
   "source": [
    "import pandas as pd\n",
    "import numpy as np\n",
    "from sklearn.naive_bayes import GaussianNB\n",
    "from sklearn.naive_bayes import MultinomialNB\n",
    "from sklearn.naive_bayes import ComplementNB\n",
    "from sklearn.naive_bayes import BernoulliNB\n",
    "\n",
    "from pipeline_utilities import create_base_pipeline\n",
    "from pipeline_utilities import  create_positive_base_pipeline\n",
    "from load_data import load_data\n",
    "from sklearn.metrics import roc_auc_score"
   ]
  },
  {
   "cell_type": "code",
   "execution_count": 23,
   "metadata": {},
   "outputs": [],
   "source": [
    "X, X_ensemble, X_dropout, y, y_ensemble, y_dropout, train_csv, test_csv = load_data()"
   ]
  },
  {
   "cell_type": "markdown",
   "metadata": {},
   "source": [
    "## Get 'most relevant' features"
   ]
  },
  {
   "cell_type": "code",
   "execution_count": 6,
   "metadata": {},
   "outputs": [
    {
     "data": {
      "text/html": [
       "<div>\n",
       "<style scoped>\n",
       "    .dataframe tbody tr th:only-of-type {\n",
       "        vertical-align: middle;\n",
       "    }\n",
       "\n",
       "    .dataframe tbody tr th {\n",
       "        vertical-align: top;\n",
       "    }\n",
       "\n",
       "    .dataframe thead th {\n",
       "        text-align: right;\n",
       "    }\n",
       "</style>\n",
       "<table border=\"1\" class=\"dataframe\">\n",
       "  <thead>\n",
       "    <tr style=\"text-align: right;\">\n",
       "      <th></th>\n",
       "      <th>tree_importance</th>\n",
       "      <th>linear_importance</th>\n",
       "      <th>linear_rank</th>\n",
       "      <th>tree_rank</th>\n",
       "      <th>average_rank</th>\n",
       "    </tr>\n",
       "    <tr>\n",
       "      <th>feature</th>\n",
       "      <th></th>\n",
       "      <th></th>\n",
       "      <th></th>\n",
       "      <th></th>\n",
       "      <th></th>\n",
       "    </tr>\n",
       "  </thead>\n",
       "  <tbody>\n",
       "    <tr>\n",
       "      <th>var_81</th>\n",
       "      <td>0.015771</td>\n",
       "      <td>0.221647</td>\n",
       "      <td>1.0</td>\n",
       "      <td>1.0</td>\n",
       "      <td>1.0</td>\n",
       "    </tr>\n",
       "    <tr>\n",
       "      <th>var_139</th>\n",
       "      <td>0.011978</td>\n",
       "      <td>0.202066</td>\n",
       "      <td>2.0</td>\n",
       "      <td>3.0</td>\n",
       "      <td>2.5</td>\n",
       "    </tr>\n",
       "    <tr>\n",
       "      <th>var_12</th>\n",
       "      <td>0.012252</td>\n",
       "      <td>0.187078</td>\n",
       "      <td>4.0</td>\n",
       "      <td>2.0</td>\n",
       "      <td>3.0</td>\n",
       "    </tr>\n",
       "    <tr>\n",
       "      <th>var_53</th>\n",
       "      <td>0.010661</td>\n",
       "      <td>0.177735</td>\n",
       "      <td>5.0</td>\n",
       "      <td>4.0</td>\n",
       "      <td>4.5</td>\n",
       "    </tr>\n",
       "    <tr>\n",
       "      <th>var_110</th>\n",
       "      <td>0.010287</td>\n",
       "      <td>0.172094</td>\n",
       "      <td>8.0</td>\n",
       "      <td>5.0</td>\n",
       "      <td>6.5</td>\n",
       "    </tr>\n",
       "  </tbody>\n",
       "</table>\n",
       "</div>"
      ],
      "text/plain": [
       "         tree_importance  linear_importance  linear_rank  tree_rank  \\\n",
       "feature                                                               \n",
       "var_81          0.015771           0.221647          1.0        1.0   \n",
       "var_139         0.011978           0.202066          2.0        3.0   \n",
       "var_12          0.012252           0.187078          4.0        2.0   \n",
       "var_53          0.010661           0.177735          5.0        4.0   \n",
       "var_110         0.010287           0.172094          8.0        5.0   \n",
       "\n",
       "         average_rank  \n",
       "feature                \n",
       "var_81            1.0  \n",
       "var_139           2.5  \n",
       "var_12            3.0  \n",
       "var_53            4.5  \n",
       "var_110           6.5  "
      ]
     },
     "execution_count": 6,
     "metadata": {},
     "output_type": "execute_result"
    }
   ],
   "source": [
    "feature_importance = pd.read_csv('feature_importance.csv', index_col='feature').sort_values(by='average_rank')\n",
    "top10_features = list(feature_importance.index[:10])\n",
    "top20_features = list(feature_importance.index[:20])\n",
    "top50_features = list(feature_importance.index[:50])\n",
    "top100_features = list(feature_importance.index[:100])\n",
    "top150_features = list(feature_importance.index[:150])\n",
    "all_features = list(feature_importance.index)\n",
    "feature_importance.head()"
   ]
  },
  {
   "cell_type": "code",
   "execution_count": 7,
   "metadata": {},
   "outputs": [
    {
     "data": {
      "text/html": [
       "<div>\n",
       "<style scoped>\n",
       "    .dataframe tbody tr th:only-of-type {\n",
       "        vertical-align: middle;\n",
       "    }\n",
       "\n",
       "    .dataframe tbody tr th {\n",
       "        vertical-align: top;\n",
       "    }\n",
       "\n",
       "    .dataframe thead th {\n",
       "        text-align: right;\n",
       "    }\n",
       "</style>\n",
       "<table border=\"1\" class=\"dataframe\">\n",
       "  <thead>\n",
       "    <tr style=\"text-align: right;\">\n",
       "      <th></th>\n",
       "      <th>var_0</th>\n",
       "      <th>var_1</th>\n",
       "      <th>var_2</th>\n",
       "      <th>var_3</th>\n",
       "      <th>var_4</th>\n",
       "      <th>var_5</th>\n",
       "      <th>var_6</th>\n",
       "      <th>var_7</th>\n",
       "      <th>var_8</th>\n",
       "      <th>var_9</th>\n",
       "      <th>...</th>\n",
       "      <th>var_190</th>\n",
       "      <th>var_191</th>\n",
       "      <th>var_192</th>\n",
       "      <th>var_193</th>\n",
       "      <th>var_194</th>\n",
       "      <th>var_195</th>\n",
       "      <th>var_196</th>\n",
       "      <th>var_197</th>\n",
       "      <th>var_198</th>\n",
       "      <th>var_199</th>\n",
       "    </tr>\n",
       "    <tr>\n",
       "      <th>ID_code</th>\n",
       "      <th></th>\n",
       "      <th></th>\n",
       "      <th></th>\n",
       "      <th></th>\n",
       "      <th></th>\n",
       "      <th></th>\n",
       "      <th></th>\n",
       "      <th></th>\n",
       "      <th></th>\n",
       "      <th></th>\n",
       "      <th></th>\n",
       "      <th></th>\n",
       "      <th></th>\n",
       "      <th></th>\n",
       "      <th></th>\n",
       "      <th></th>\n",
       "      <th></th>\n",
       "      <th></th>\n",
       "      <th></th>\n",
       "      <th></th>\n",
       "      <th></th>\n",
       "    </tr>\n",
       "  </thead>\n",
       "  <tbody>\n",
       "    <tr>\n",
       "      <th>train_20237</th>\n",
       "      <td>11.4978</td>\n",
       "      <td>-3.0777</td>\n",
       "      <td>11.9565</td>\n",
       "      <td>8.8948</td>\n",
       "      <td>11.2996</td>\n",
       "      <td>-10.4822</td>\n",
       "      <td>3.8270</td>\n",
       "      <td>11.4380</td>\n",
       "      <td>-3.4475</td>\n",
       "      <td>7.4598</td>\n",
       "      <td>...</td>\n",
       "      <td>-6.0965</td>\n",
       "      <td>3.9164</td>\n",
       "      <td>-0.4457</td>\n",
       "      <td>-0.9721</td>\n",
       "      <td>21.6714</td>\n",
       "      <td>1.5506</td>\n",
       "      <td>6.3634</td>\n",
       "      <td>8.1350</td>\n",
       "      <td>21.6712</td>\n",
       "      <td>-8.5367</td>\n",
       "    </tr>\n",
       "    <tr>\n",
       "      <th>train_198821</th>\n",
       "      <td>6.7885</td>\n",
       "      <td>0.7269</td>\n",
       "      <td>5.8945</td>\n",
       "      <td>5.4038</td>\n",
       "      <td>9.9259</td>\n",
       "      <td>-2.9944</td>\n",
       "      <td>5.4108</td>\n",
       "      <td>16.3829</td>\n",
       "      <td>2.0580</td>\n",
       "      <td>8.1804</td>\n",
       "      <td>...</td>\n",
       "      <td>6.1964</td>\n",
       "      <td>11.6020</td>\n",
       "      <td>3.5603</td>\n",
       "      <td>0.6766</td>\n",
       "      <td>20.0554</td>\n",
       "      <td>-1.5801</td>\n",
       "      <td>5.3351</td>\n",
       "      <td>8.6182</td>\n",
       "      <td>9.6734</td>\n",
       "      <td>-13.4286</td>\n",
       "    </tr>\n",
       "    <tr>\n",
       "      <th>train_188009</th>\n",
       "      <td>8.6802</td>\n",
       "      <td>3.5310</td>\n",
       "      <td>7.9625</td>\n",
       "      <td>7.6073</td>\n",
       "      <td>11.0424</td>\n",
       "      <td>5.7768</td>\n",
       "      <td>4.3228</td>\n",
       "      <td>20.5002</td>\n",
       "      <td>4.8297</td>\n",
       "      <td>7.4733</td>\n",
       "      <td>...</td>\n",
       "      <td>7.9154</td>\n",
       "      <td>7.6972</td>\n",
       "      <td>1.6893</td>\n",
       "      <td>4.8253</td>\n",
       "      <td>17.6450</td>\n",
       "      <td>0.9720</td>\n",
       "      <td>-1.3828</td>\n",
       "      <td>7.3101</td>\n",
       "      <td>13.2607</td>\n",
       "      <td>-9.4329</td>\n",
       "    </tr>\n",
       "    <tr>\n",
       "      <th>train_12214</th>\n",
       "      <td>13.1322</td>\n",
       "      <td>-0.5355</td>\n",
       "      <td>8.9295</td>\n",
       "      <td>9.2934</td>\n",
       "      <td>11.0048</td>\n",
       "      <td>-1.6971</td>\n",
       "      <td>5.3749</td>\n",
       "      <td>14.7257</td>\n",
       "      <td>3.6912</td>\n",
       "      <td>9.2250</td>\n",
       "      <td>...</td>\n",
       "      <td>8.5705</td>\n",
       "      <td>8.4554</td>\n",
       "      <td>1.4635</td>\n",
       "      <td>1.0137</td>\n",
       "      <td>14.6109</td>\n",
       "      <td>1.8852</td>\n",
       "      <td>8.9966</td>\n",
       "      <td>8.0651</td>\n",
       "      <td>19.3677</td>\n",
       "      <td>-14.6202</td>\n",
       "    </tr>\n",
       "    <tr>\n",
       "      <th>train_133939</th>\n",
       "      <td>10.8787</td>\n",
       "      <td>-0.6815</td>\n",
       "      <td>5.0000</td>\n",
       "      <td>5.9295</td>\n",
       "      <td>9.3202</td>\n",
       "      <td>-3.5659</td>\n",
       "      <td>3.5086</td>\n",
       "      <td>18.0152</td>\n",
       "      <td>-0.2265</td>\n",
       "      <td>7.8618</td>\n",
       "      <td>...</td>\n",
       "      <td>6.2816</td>\n",
       "      <td>7.1930</td>\n",
       "      <td>1.7058</td>\n",
       "      <td>-2.6972</td>\n",
       "      <td>21.1006</td>\n",
       "      <td>0.9372</td>\n",
       "      <td>-4.3809</td>\n",
       "      <td>8.9797</td>\n",
       "      <td>20.3274</td>\n",
       "      <td>-19.3787</td>\n",
       "    </tr>\n",
       "  </tbody>\n",
       "</table>\n",
       "<p>5 rows × 200 columns</p>\n",
       "</div>"
      ],
      "text/plain": [
       "                var_0   var_1    var_2   var_3    var_4    var_5   var_6  \\\n",
       "ID_code                                                                    \n",
       "train_20237   11.4978 -3.0777  11.9565  8.8948  11.2996 -10.4822  3.8270   \n",
       "train_198821   6.7885  0.7269   5.8945  5.4038   9.9259  -2.9944  5.4108   \n",
       "train_188009   8.6802  3.5310   7.9625  7.6073  11.0424   5.7768  4.3228   \n",
       "train_12214   13.1322 -0.5355   8.9295  9.2934  11.0048  -1.6971  5.3749   \n",
       "train_133939  10.8787 -0.6815   5.0000  5.9295   9.3202  -3.5659  3.5086   \n",
       "\n",
       "                var_7   var_8   var_9   ...     var_190  var_191  var_192  \\\n",
       "ID_code                                 ...                                 \n",
       "train_20237   11.4380 -3.4475  7.4598   ...     -6.0965   3.9164  -0.4457   \n",
       "train_198821  16.3829  2.0580  8.1804   ...      6.1964  11.6020   3.5603   \n",
       "train_188009  20.5002  4.8297  7.4733   ...      7.9154   7.6972   1.6893   \n",
       "train_12214   14.7257  3.6912  9.2250   ...      8.5705   8.4554   1.4635   \n",
       "train_133939  18.0152 -0.2265  7.8618   ...      6.2816   7.1930   1.7058   \n",
       "\n",
       "              var_193  var_194  var_195  var_196  var_197  var_198  var_199  \n",
       "ID_code                                                                      \n",
       "train_20237   -0.9721  21.6714   1.5506   6.3634   8.1350  21.6712  -8.5367  \n",
       "train_198821   0.6766  20.0554  -1.5801   5.3351   8.6182   9.6734 -13.4286  \n",
       "train_188009   4.8253  17.6450   0.9720  -1.3828   7.3101  13.2607  -9.4329  \n",
       "train_12214    1.0137  14.6109   1.8852   8.9966   8.0651  19.3677 -14.6202  \n",
       "train_133939  -2.6972  21.1006   0.9372  -4.3809   8.9797  20.3274 -19.3787  \n",
       "\n",
       "[5 rows x 200 columns]"
      ]
     },
     "execution_count": 7,
     "metadata": {},
     "output_type": "execute_result"
    }
   ],
   "source": [
    "X.head()"
   ]
  },
  {
   "cell_type": "code",
   "execution_count": null,
   "metadata": {},
   "outputs": [],
   "source": [
    "from pipeline_utilities import PandasWrapper\n",
    "from pipeline_utilities import NumericFeaturesTransformer\n",
    "from pipeline_utilities import BucketDistributor\n",
    "from sklearn.pipeline import FeatureUnion\n",
    "from sklearn.pipeline import Pipeline\n",
    "from sklearn.preprocessing import StandardScaler\n",
    "\n",
    "\n",
    "##cv = 2 maybe not even necessary?\n",
    "def create_pipeline_with_artificial_features(columns, transformations, num_buckets, Classifier= GaussianNB()):\n",
    "    ScalerTransformerScaler = Pipeline([\n",
    "        ('StandardScaler1', PandasWrapper(StandardScaler())), \n",
    "        (\"NumericFeaturesTransformer\", NumericFeaturesTransformer(transformations = transformations, columns=columns)),\n",
    "        ('StandardScaler2', StandardScaler())\n",
    "    ])\n",
    "\n",
    "\n",
    "    UnionOfTransformedFeatures = FeatureUnion([\n",
    "        (\"ScalerTransformerScaler\", ScalerTransformerScaler),\n",
    "        (\"BucketDistributor\", BucketDistributor(num_buckets = num_buckets, columns = columns))\n",
    "    ])\n",
    "\n",
    "\n",
    "    pipelinewithartificialfeatures = Pipeline([\n",
    "        (\"UnionOfTransformedFeatures\", UnionOfTransformedFeatures), \n",
    "        (\"Classifier\", Classifier)\n",
    "\n",
    "    ])\n",
    "    return pipelinewithartificialfeatures ## no crossvalidation yet!\n"
   ]
  },
  {
   "cell_type": "markdown",
   "metadata": {},
   "source": [
    "## Our benchmark will be the `base_pipeline` with top50 features\n",
    "AUC = 0.83"
   ]
  },
  {
   "cell_type": "code",
   "execution_count": 8,
   "metadata": {},
   "outputs": [
    {
     "name": "stdout",
     "output_type": "stream",
     "text": [
      "score to beat =  0.839293035567118\n"
     ]
    }
   ],
   "source": [
    "descriptor = (GaussianNB(), {}, top50_features, 'linear_classifier_top100.pkl')\n",
    "base_pipeline = create_base_pipeline(descriptor, cv=2)\n",
    "base_pipeline.fit(X, y);\n",
    "print 'score to beat = ', base_pipeline.score(X_dropout, y_dropout)"
   ]
  },
  {
   "cell_type": "code",
   "execution_count": 9,
   "metadata": {},
   "outputs": [
    {
     "data": {
      "text/plain": [
       "0.839293035567118"
      ]
     },
     "execution_count": 9,
     "metadata": {},
     "output_type": "execute_result"
    }
   ],
   "source": [
    "y_predicted = base_pipeline.predict_proba(X_dropout)[:,1]\n",
    "roc_auc_score(y_dropout, y_predicted)"
   ]
  },
  {
   "cell_type": "markdown",
   "metadata": {},
   "source": [
    "## If we add transformations of the features, do we improve our performance?\n",
    "No"
   ]
  },
  {
   "cell_type": "code",
   "execution_count": null,
   "metadata": {},
   "outputs": [],
   "source": [
    "def identity(x): return x\n",
    "def exp(x): return np.exp(x)\n",
    "def square(x): return x**2"
   ]
  },
  {
   "cell_type": "code",
   "execution_count": null,
   "metadata": {},
   "outputs": [],
   "source": [
    "columns = top50_features\n",
    "transformations = [exp, square]\n",
    "num_buckets=5\n",
    "\n",
    "pipeline = create_pipeline_with_artificial_features(columns, transformations, num_buckets)\n",
    "pipeline.fit(X, y)\n",
    "y_predicted = pipeline.predict_proba(X_dropout)[:,1]\n",
    "roc_auc_score(y_dropout, y_predicted)"
   ]
  },
  {
   "cell_type": "markdown",
   "metadata": {},
   "source": [
    "## If we tune the hyperparameters of Naive Bayes, do we get better performance?\n",
    "Just a tiny microscopic little bit"
   ]
  },
  {
   "cell_type": "code",
   "execution_count": null,
   "metadata": {},
   "outputs": [],
   "source": [
    "parameters = {'var_smoothing': 10**np.linspace(-20, -1,40)}\n",
    "descriptor = (GaussianNB(), parameters, top50_features, 'naive_top50.pkl')\n",
    "base_pipeline = create_base_pipeline(descriptor, cv=2)\n",
    "base_pipeline.fit(X, y);\n",
    "'Best score = ', base_pipeline.score(X_dropout, y_dropout)"
   ]
  },
  {
   "cell_type": "code",
   "execution_count": null,
   "metadata": {},
   "outputs": [],
   "source": [
    "base_pipeline.best_estimator_"
   ]
  },
  {
   "cell_type": "markdown",
   "metadata": {},
   "source": [
    "## If we use Multinomial Naive Bayes, do we get better performance?\n",
    "No"
   ]
  },
  {
   "cell_type": "code",
   "execution_count": 16,
   "metadata": {},
   "outputs": [
    {
     "data": {
      "text/plain": [
       "('Best score = ', 0.8044952362239447)"
      ]
     },
     "execution_count": 16,
     "metadata": {},
     "output_type": "execute_result"
    }
   ],
   "source": [
    "parameters = {'alpha': 10**np.linspace(-20, 20,10)}\n",
    "descriptor = (MultinomialNB(), parameters, top50_features, 'multinomialnv_top50.pkl')\n",
    "base_pipeline = create_positive_base_pipeline(descriptor, cv=2)\n",
    "base_pipeline.fit(X, y);\n",
    "'Best score = ', base_pipeline.score(X_dropout, y_dropout)"
   ]
  },
  {
   "cell_type": "code",
   "execution_count": 18,
   "metadata": {},
   "outputs": [],
   "source": [
    "from sklearn.naive_bayes import ComplementNB"
   ]
  },
  {
   "cell_type": "markdown",
   "metadata": {},
   "source": [
    "## If we use Complement Naive Bayes, do we get better performance?\n",
    "(This algo is supposed to be well suited for umbalanced datasets)"
   ]
  },
  {
   "cell_type": "code",
   "execution_count": 21,
   "metadata": {},
   "outputs": [
    {
     "data": {
      "text/plain": [
       "('Best score = ', 0.8044952362239447)"
      ]
     },
     "execution_count": 21,
     "metadata": {},
     "output_type": "execute_result"
    }
   ],
   "source": [
    "parameters = {'var_smoothing': 10**np.linspace(-20, -1,40)}\n",
    "descriptor = (ComplementNB(), parameters, top50_features, 'naive_top50.pkl')\n",
    "base_pipeline = create_positive_base_pipeline(descriptor, cv=2)\n",
    "base_pipeline.fit(X, y);\n",
    "'Best score = ', base_pipeline.score(X_dropout, y_dropout)"
   ]
  }
 ],
 "metadata": {
  "kernelspec": {
   "display_name": "Python 2",
   "language": "python",
   "name": "python2"
  },
  "language_info": {
   "codemirror_mode": {
    "name": "ipython",
    "version": 2
   },
   "file_extension": ".py",
   "mimetype": "text/x-python",
   "name": "python",
   "nbconvert_exporter": "python",
   "pygments_lexer": "ipython2",
   "version": "2.7.15"
  }
 },
 "nbformat": 4,
 "nbformat_minor": 2
}
