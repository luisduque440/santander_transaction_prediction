{
 "cells": [
  {
   "cell_type": "markdown",
   "metadata": {},
   "source": [
    "# Create submission files RUN AGAIN AFTER EVERYTHING RUN"
   ]
  },
  {
   "cell_type": "code",
   "execution_count": 1,
   "metadata": {},
   "outputs": [],
   "source": [
    "import pandas as pd\n",
    "import numpy as np\n",
    "from load_data import load_data\n",
    "from pipeline_utilities import ColumnSelector\n",
    "import pickle"
   ]
  },
  {
   "cell_type": "code",
   "execution_count": 2,
   "metadata": {},
   "outputs": [],
   "source": [
    "X, X_ensemble, X_dropout, y, y_ensemble, y_dropout, train_csv, test_csv = load_data()"
   ]
  },
  {
   "cell_type": "code",
   "execution_count": 5,
   "metadata": {},
   "outputs": [
    {
     "name": "stdout",
     "output_type": "stream",
     "text": [
      "./pickled_models/assembled_pipeline_with_boost.pkl\r\n",
      "./pickled_models/assembled_pipeline_with_forest.pkl\r\n",
      "./pickled_models/assembled_pipeline_with_logistic.pkl\r\n",
      "./pickled_models/assembled_pipeline_with_naive.pkl\r\n"
     ]
    }
   ],
   "source": [
    "ls ./pickled_models/assembled_*"
   ]
  },
  {
   "cell_type": "code",
   "execution_count": 6,
   "metadata": {},
   "outputs": [
    {
     "name": "stdout",
     "output_type": "stream",
     "text": [
      "./pickled_models/assembled_pipeline_with_naive.pkl\r\n",
      "./pickled_models/naive_classifier_all.pkl\r\n",
      "./pickled_models/naive_classifier_all_sunday.pkl\r\n",
      "./pickled_models/naive_classifier_top10.pkl\r\n",
      "./pickled_models/naive_classifier_top100.pkl\r\n",
      "./pickled_models/naive_classifier_top150.pkl\r\n",
      "./pickled_models/naive_classifier_top20.pkl\r\n",
      "./pickled_models/naive_classifier_top50.pkl\r\n"
     ]
    }
   ],
   "source": [
    "ls ./pickled_models/*naive*"
   ]
  },
  {
   "cell_type": "code",
   "execution_count": 7,
   "metadata": {},
   "outputs": [],
   "source": [
    "path = \"./pickled_models/naive_classifier_all_sunday.pkl\"\n",
    "model = pickle.load(open(path, 'rb'))\n",
    "submission = pd.DataFrame({'target': model.predict_proba(test_csv)[:,1]}, index=test_csv.index)\n",
    "submission.to_csv('naivesunday_all.csv', index=True)"
   ]
  },
  {
   "cell_type": "code",
   "execution_count": 7,
   "metadata": {},
   "outputs": [],
   "source": [
    "path = \"./pickled_models/naive_classifier_all.pkl\"\n",
    "model = pickle.load(open(path, 'rb'))\n",
    "submission = pd.DataFrame({'target': model.predict_proba(test_csv)[:,1]}, index=test_csv.index)\n",
    "submission.to_csv('naive_classifier_all.csv', index=True)"
   ]
  },
  {
   "cell_type": "code",
   "execution_count": 26,
   "metadata": {},
   "outputs": [],
   "source": [
    "path = \"./pickled_models/assembled_pipeline_with_forest.pkl\"\n",
    "model = pickle.load(open(path, 'rb'))\n",
    "submission = pd.DataFrame({'target': model.predict_proba(test_csv)[:,1]}, index=test_csv.index)\n",
    "submission.to_csv('assembly_forest.csv', index=True)"
   ]
  },
  {
   "cell_type": "code",
   "execution_count": 28,
   "metadata": {},
   "outputs": [],
   "source": [
    "path = \"./pickled_models/assembled_pipeline_with_boost.pkl\"\n",
    "model = pickle.load(open(path, 'rb'))\n",
    "submission = pd.DataFrame({'target': model.predict_proba(test_csv)[:,1]}, index=test_csv.index)\n",
    "submission.to_csv('assembly_boost.csv', index=True)"
   ]
  },
  {
   "cell_type": "code",
   "execution_count": null,
   "metadata": {},
   "outputs": [],
   "source": []
  }
 ],
 "metadata": {
  "kernelspec": {
   "display_name": "Python 2",
   "language": "python",
   "name": "python2"
  },
  "language_info": {
   "codemirror_mode": {
    "name": "ipython",
    "version": 2
   },
   "file_extension": ".py",
   "mimetype": "text/x-python",
   "name": "python",
   "nbconvert_exporter": "python",
   "pygments_lexer": "ipython2",
   "version": "2.7.15"
  }
 },
 "nbformat": 4,
 "nbformat_minor": 2
}
