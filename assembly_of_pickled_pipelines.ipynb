{
 "cells": [
  {
   "cell_type": "markdown",
   "metadata": {},
   "source": [
    "## Assembly of pickled pipelines\n",
    "We want to:\n",
    "* Load all the pipelines\n",
    "* Assemble them by putting another model (naive bayes for now) on top of them"
   ]
  },
  {
   "cell_type": "code",
   "execution_count": 1,
   "metadata": {},
   "outputs": [],
   "source": [
    "import pandas as pd\n",
    "import matplotlib.pyplot as plt\n",
    "from sklearn.model_selection import train_test_split\n",
    "from pipeline_utilities import load_all_available_pickled_models\n",
    "from pipeline_utilities import pickle_pipeline\n",
    "from pipeline_utilities import create_assembled_pipeline\n",
    "from pipeline_utilities import ModelTransformer\n",
    "from pipeline_utilities import ColumnSelector"
   ]
  },
  {
   "cell_type": "code",
   "execution_count": 2,
   "metadata": {},
   "outputs": [],
   "source": [
    "train_csv = pd.read_csv('train.csv').set_index('ID_code')\n",
    "#test_csv = pd.read_csv('test.csv').set_index('ID_code')\n",
    "Features = train_csv.drop(columns = 'target')\n",
    "target = train_csv.target\n",
    "X, X_dropout, y, y_dropout = train_test_split(Features, target, test_size=0.25, random_state=42)"
   ]
  },
  {
   "cell_type": "code",
   "execution_count": 3,
   "metadata": {},
   "outputs": [],
   "source": [
    "model_dictionary = load_all_available_pickled_models()"
   ]
  },
  {
   "cell_type": "code",
   "execution_count": 6,
   "metadata": {},
   "outputs": [
    {
     "data": {
      "text/plain": [
       "GridSearchCV(cv=2, error_score='raise-deprecating',\n",
       "       estimator=Pipeline(memory=None,\n",
       "     steps=[('ModelTransformer', ModelTransformer(model_dictionary={'forest_classifier_top50.pkl': GridSearchCV(cv=2, error_score='raise-deprecating',\n",
       "       estimator=Pipeline(memory=None,\n",
       "     steps=[('selector', ColumnSelector(columns=['var_81', 'var_139', 'var_12', 'var_53', 'var_110', 'var_146', 'va...y=True, with_mean=True, with_std=True)), ('topmodel', GaussianNB(priors=None, var_smoothing=1e-09))]),\n",
       "       fit_params=None, iid='warn', n_jobs=None, param_grid={},\n",
       "       pre_dispatch='2*n_jobs', refit=True, return_train_score=True,\n",
       "       scoring='roc_auc', verbose=0)"
      ]
     },
     "execution_count": 6,
     "metadata": {},
     "output_type": "execute_result"
    }
   ],
   "source": [
    "from sklearn.naive_bayes import GaussianNB\n",
    "assembled_pipeline = create_assembled_pipeline(model_dictionary, GaussianNB())\n",
    "assembled_pipeline.fit(X,y);"
   ]
  },
  {
   "cell_type": "code",
   "execution_count": 7,
   "metadata": {},
   "outputs": [
    {
     "name": "stdout",
     "output_type": "stream",
     "text": [
      "assembled_pipeline_with_naivebayes.pkl was created\n"
     ]
    }
   ],
   "source": [
    "pickle_pipeline(assembled_pipeline, 'assembled_pipeline_with_naivebayes.pkl')"
   ]
  },
  {
   "cell_type": "code",
   "execution_count": null,
   "metadata": {},
   "outputs": [],
   "source": []
  }
 ],
 "metadata": {
  "kernelspec": {
   "display_name": "Python 2",
   "language": "python",
   "name": "python2"
  },
  "language_info": {
   "codemirror_mode": {
    "name": "ipython",
    "version": 2
   },
   "file_extension": ".py",
   "mimetype": "text/x-python",
   "name": "python",
   "nbconvert_exporter": "python",
   "pygments_lexer": "ipython2",
   "version": "2.7.15"
  }
 },
 "nbformat": 4,
 "nbformat_minor": 2
}
