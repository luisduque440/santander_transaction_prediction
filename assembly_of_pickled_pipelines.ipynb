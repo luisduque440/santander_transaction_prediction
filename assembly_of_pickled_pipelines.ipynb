{
 "cells": [
  {
   "cell_type": "markdown",
   "metadata": {},
   "source": [
    "## Assembly of pickled pipelines   --- RUN AFTER PICKLES ARE CREATED\n",
    "We want to:\n",
    "* Load all the pipelines\n",
    "* Assemble them by putting another model (naive bayes for now) on top of them"
   ]
  },
  {
   "cell_type": "code",
   "execution_count": 1,
   "metadata": {},
   "outputs": [],
   "source": [
    "import pandas as pd\n",
    "import matplotlib.pyplot as plt\n",
    "from pipeline_utilities import load_all_available_pickled_models\n",
    "from pipeline_utilities import pickle_pipeline\n",
    "from pipeline_utilities import create_assembled_pipeline\n",
    "from pipeline_utilities import ModelTransformer\n",
    "from pipeline_utilities import ColumnSelector\n",
    "from sklearn.linear_model import LogisticRegression\n",
    "from sklearn.naive_bayes import GaussianNB\n",
    "from sklearn.ensemble import RandomForestClassifier\n",
    "from xgboost import XGBClassifier\n",
    "from load_data import load_data"
   ]
  },
  {
   "cell_type": "code",
   "execution_count": 2,
   "metadata": {},
   "outputs": [],
   "source": [
    "X, X_ensemble, X_dropout, y, y_ensemble, y_dropout, train_csv, test_csv = load_data()"
   ]
  },
  {
   "cell_type": "code",
   "execution_count": 3,
   "metadata": {},
   "outputs": [],
   "source": [
    "# careful, load models that are NOT assembled only\n",
    "model_dictionary = load_all_available_pickled_models()"
   ]
  },
  {
   "cell_type": "markdown",
   "metadata": {},
   "source": [
    "## Assembly with Naive Bayes"
   ]
  },
  {
   "cell_type": "code",
   "execution_count": 4,
   "metadata": {},
   "outputs": [
    {
     "name": "stdout",
     "output_type": "stream",
     "text": [
      "assembled_pipeline_with_naive.pkl was created\n"
     ]
    }
   ],
   "source": [
    "assembled_pipeline = create_assembled_pipeline(model_dictionary, GaussianNB())\n",
    "assembled_pipeline.fit(X_ensemble,y_ensemble);\n",
    "pickle_pipeline(assembled_pipeline, 'assembled_pipeline_with_naive.pkl')"
   ]
  },
  {
   "cell_type": "markdown",
   "metadata": {},
   "source": [
    "## Assembly with Logistic Regression"
   ]
  },
  {
   "cell_type": "code",
   "execution_count": 5,
   "metadata": {},
   "outputs": [
    {
     "name": "stderr",
     "output_type": "stream",
     "text": [
      "/Users/lduque/anaconda2/lib/python2.7/site-packages/sklearn/linear_model/logistic.py:432: FutureWarning: Default solver will be changed to 'lbfgs' in 0.22. Specify a solver to silence this warning.\n",
      "  FutureWarning)\n"
     ]
    },
    {
     "name": "stdout",
     "output_type": "stream",
     "text": [
      "assembled_pipeline_with_logistic.pkl was created\n"
     ]
    }
   ],
   "source": [
    "assembled_pipeline = create_assembled_pipeline(model_dictionary, LogisticRegression())\n",
    "assembled_pipeline.fit(X_ensemble,y_ensemble);\n",
    "pickle_pipeline(assembled_pipeline, 'assembled_pipeline_with_logistic.pkl')"
   ]
  },
  {
   "cell_type": "markdown",
   "metadata": {},
   "source": [
    "## Assembly with Random Forests"
   ]
  },
  {
   "cell_type": "code",
   "execution_count": 6,
   "metadata": {},
   "outputs": [
    {
     "name": "stderr",
     "output_type": "stream",
     "text": [
      "/Users/lduque/anaconda2/lib/python2.7/site-packages/sklearn/ensemble/forest.py:248: FutureWarning: The default value of n_estimators will change from 10 in version 0.20 to 100 in 0.22.\n",
      "  \"10 in version 0.20 to 100 in 0.22.\", FutureWarning)\n"
     ]
    },
    {
     "name": "stdout",
     "output_type": "stream",
     "text": [
      "assembled_pipeline_with_forest.pkl was created\n"
     ]
    }
   ],
   "source": [
    "assembled_pipeline = create_assembled_pipeline(model_dictionary, RandomForestClassifier())\n",
    "assembled_pipeline.fit(X_ensemble,y_ensemble);\n",
    "pickle_pipeline(assembled_pipeline, 'assembled_pipeline_with_forest.pkl')"
   ]
  },
  {
   "cell_type": "markdown",
   "metadata": {},
   "source": [
    "## Assembly with XGBoost"
   ]
  },
  {
   "cell_type": "code",
   "execution_count": 7,
   "metadata": {},
   "outputs": [
    {
     "name": "stdout",
     "output_type": "stream",
     "text": [
      "assembled_pipeline_with_boost.pkl was created\n"
     ]
    }
   ],
   "source": [
    "assembled_pipeline = create_assembled_pipeline(model_dictionary, XGBClassifier())\n",
    "assembled_pipeline.fit(X_ensemble,y_ensemble);\n",
    "pickle_pipeline(assembled_pipeline, 'assembled_pipeline_with_boost.pkl')"
   ]
  }
 ],
 "metadata": {
  "kernelspec": {
   "display_name": "Python 2",
   "language": "python",
   "name": "python2"
  },
  "language_info": {
   "codemirror_mode": {
    "name": "ipython",
    "version": 2
   },
   "file_extension": ".py",
   "mimetype": "text/x-python",
   "name": "python",
   "nbconvert_exporter": "python",
   "pygments_lexer": "ipython2",
   "version": "2.7.15"
  }
 },
 "nbformat": 4,
 "nbformat_minor": 2
}
